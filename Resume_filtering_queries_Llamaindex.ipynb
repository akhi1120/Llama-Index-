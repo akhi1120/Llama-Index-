{
 "cells": [
  {
   "cell_type": "markdown",
   "metadata": {},
   "source": [
    "# Save key in environmental variable"
   ]
  },
  {
   "cell_type": "code",
   "execution_count": 1,
   "metadata": {},
   "outputs": [],
   "source": [
    "import os\n",
    "#os.environ[\"OPENAI_API_KEY\"]=\"\"\n",
    "os.environ[\"OPENAI_API_KEY\"]=\"Your API Key\""
   ]
  },
  {
   "cell_type": "markdown",
   "metadata": {},
   "source": [
    "# Load documents"
   ]
  },
  {
   "cell_type": "code",
   "execution_count": 2,
   "metadata": {},
   "outputs": [],
   "source": [
    "from llama_index.core import SimpleDirectoryReader"
   ]
  },
  {
   "cell_type": "code",
   "execution_count": 4,
   "metadata": {},
   "outputs": [],
   "source": [
    "documents = SimpleDirectoryReader(\"C:\\\\Users\\\\akhil\\\\Downloads\\\\Gen-AI_Internship\\\\Resumes\",recursive=True).load_data()"
   ]
  },
  {
   "cell_type": "markdown",
   "metadata": {},
   "source": [
    "# Create a vector index"
   ]
  },
  {
   "cell_type": "code",
   "execution_count": 5,
   "metadata": {},
   "outputs": [],
   "source": [
    "from llama_index.core import VectorStoreIndex"
   ]
  },
  {
   "cell_type": "code",
   "execution_count": 6,
   "metadata": {},
   "outputs": [],
   "source": [
    "index = VectorStoreIndex.from_documents(documents)"
   ]
  },
  {
   "cell_type": "markdown",
   "metadata": {},
   "source": [
    "# Create an engine"
   ]
  },
  {
   "cell_type": "code",
   "execution_count": 7,
   "metadata": {},
   "outputs": [],
   "source": [
    "query_engine = index.as_query_engine(similarity_top_k=25)"
   ]
  },
  {
   "cell_type": "markdown",
   "metadata": {},
   "source": [
    "# form a query and ask a query"
   ]
  },
  {
   "cell_type": "code",
   "execution_count": 17,
   "metadata": {},
   "outputs": [
    {
     "data": {
      "text/plain": [
       "'Jane Smith, Michael Lee, Alice Johnson, David Brown, Emily Davis, Sara Wilson, Chris Taylor, John Doe'"
      ]
     },
     "execution_count": 17,
     "metadata": {},
     "output_type": "execute_result"
    }
   ],
   "source": [
    "response = query_engine.query(\"provide me names of all people\")\n",
    "response.response"
   ]
  },
  {
   "cell_type": "code",
   "execution_count": 10,
   "metadata": {},
   "outputs": [
    {
     "name": "stdout",
     "output_type": "stream",
     "text": [
      "CodeMasters College, Design Institute of Excellence, Creative Arts University, TechnoBusiness University, Tech Valley University, DataTech Institute of Research, Global Business Academy, Marketing Excellence University\n"
     ]
    }
   ],
   "source": [
    "response = query_engine.query(\"provide me college names of all people\")\n",
    "print(response.response)"
   ]
  },
  {
   "cell_type": "code",
   "execution_count": 11,
   "metadata": {},
   "outputs": [
    {
     "name": "stdout",
     "output_type": "stream",
     "text": [
      "Software Developer, Data Scientist, Business Analyst, Project Manager, Marketing Manager, IT Support Specialist, Graphic Designer, UX/UI Designer\n"
     ]
    }
   ],
   "source": [
    "response = query_engine.query(\"provide me roles of given Resumes\")\n",
    "print(response.response)"
   ]
  },
  {
   "cell_type": "code",
   "execution_count": 12,
   "metadata": {},
   "outputs": [
    {
     "name": "stdout",
     "output_type": "stream",
     "text": [
      "JavaScript, React, Node.js, Python, Git, Agile, Python, R, SQL, Machine Learning, Deep Learning, Data Visualization, Big Data, Windows OS, Mac OS, Networking, Hardware Troubleshooting, Help Desk, Data Analysis, Requirements Gathering, Process Mapping, SQL, Project Management, Agile, Scrum, MS Project, Budget Management, Photoshop, Illustrator, Branding, Typography, Print Design, SEO, SEM, Social Media, Content Strategy, Marketing Analytics, Adobe XD, Figma, Wireframing, Prototyping, User Research.\n"
     ]
    }
   ],
   "source": [
    "response = query_engine.query(\"provide me technical skills of all Resumes\")\n",
    "print(response.response)"
   ]
  },
  {
   "cell_type": "code",
   "execution_count": 13,
   "metadata": {},
   "outputs": [
    {
     "name": "stdout",
     "output_type": "stream",
     "text": [
      "John Doe is the most expert in Python among the individuals listed.\n"
     ]
    }
   ],
   "source": [
    "response = query_engine.query(\"who is the most expert in python\")\n",
    "print(response.response)"
   ]
  },
  {
   "cell_type": "code",
   "execution_count": 15,
   "metadata": {},
   "outputs": [
    {
     "name": "stdout",
     "output_type": "stream",
     "text": [
      "Alice Johnson, Michael Lee, Jane Smith, Sara Wilson, Chris Taylor, David Brown, Emily Davis, and John Doe.\n"
     ]
    }
   ],
   "source": [
    "response = query_engine.query(\"who's done their graduation\")\n",
    "print(response.response)"
   ]
  },
  {
   "cell_type": "code",
   "execution_count": 16,
   "metadata": {},
   "outputs": [
    {
     "name": "stdout",
     "output_type": "stream",
     "text": [
      "The most common skill in all the resumes is Python.\n"
     ]
    }
   ],
   "source": [
    "response = query_engine.query(\"what is the most common skill in all Resumes \")\n",
    "print(response.response)"
   ]
  },
  {
   "cell_type": "code",
   "execution_count": 18,
   "metadata": {},
   "outputs": [
    {
     "name": "stdout",
     "output_type": "stream",
     "text": [
      "Sara Wilson\n"
     ]
    }
   ],
   "source": [
    "response = query_engine.query(\"who is having less percentage in their education\")\n",
    "print(response.response)"
   ]
  },
  {
   "cell_type": "code",
   "execution_count": 19,
   "metadata": {},
   "outputs": [
    {
     "name": "stdout",
     "output_type": "stream",
     "text": [
      "Graphic Designer\n"
     ]
    }
   ],
   "source": [
    "response = query_engine.query(\"provide me Alice Johnson role\")\n",
    "print(response.response)"
   ]
  },
  {
   "cell_type": "code",
   "execution_count": 20,
   "metadata": {},
   "outputs": [
    {
     "name": "stdout",
     "output_type": "stream",
     "text": [
      "The role of a Data Scientist is the most in demand in the industry.\n"
     ]
    }
   ],
   "source": [
    "response = query_engine.query(\"in this Resumes which role is the most demand in the industry\")\n",
    "print(response.response)"
   ]
  }
 ],
 "metadata": {
  "kernelspec": {
   "display_name": "Python 3",
   "language": "python",
   "name": "python3"
  },
  "language_info": {
   "codemirror_mode": {
    "name": "ipython",
    "version": 3
   },
   "file_extension": ".py",
   "mimetype": "text/x-python",
   "name": "python",
   "nbconvert_exporter": "python",
   "pygments_lexer": "ipython3",
   "version": "3.11.5"
  }
 },
 "nbformat": 4,
 "nbformat_minor": 2
}
